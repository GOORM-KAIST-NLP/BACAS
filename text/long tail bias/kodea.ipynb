{
  "nbformat": 4,
  "nbformat_minor": 0,
  "metadata": {
    "colab": {
      "name": "kodea.ipynb",
      "provenance": []
    },
    "kernelspec": {
      "name": "python3",
      "display_name": "Python 3"
    },
    "language_info": {
      "name": "python"
    }
  },
  "cells": [
    {
      "cell_type": "code",
      "execution_count": null,
      "metadata": {
        "id": "d01RLRfiHZl6"
      },
      "outputs": [],
      "source": [
        "!pip install koeda"
      ]
    },
    {
      "cell_type": "code",
      "source": [
        "from koeda import EDA\n",
        "#from konlpy import MeCab\n",
        "\n",
        "eda = EDA(\n",
        "    morpheme_analyzer=\"Okt\", \n",
        "    alpha_sr=0.5, alpha_ri=0.2, \n",
        "    alpha_rs=0.3, prob_rd=0.2)\n",
        "\n",
        "text = \"아버지가 방에 들어가신다\"\n",
        "\n",
        "result = eda(text)\n",
        "print(result)\n",
        "\n",
        "result1 = eda(text, p=(0.5, 0.3), repetition=3)\n",
        "print(result1)"
      ],
      "metadata": {
        "colab": {
          "base_uri": "https://localhost:8080/"
        },
        "id": "KBOcyhV7HkkZ",
        "outputId": "1e20fd3c-91fe-4a42-8e06-7af794603f28"
      },
      "execution_count": 46,
      "outputs": [
        {
          "output_type": "stream",
          "name": "stdout",
          "text": [
            "아버지가 방에 들어가신다\n",
            "['친아버지가 방에 들어가신다', '아버지가 침실에 들어가신다', '아버지가 방에들어가신다']\n"
          ]
        }
      ]
    }
  ]
}